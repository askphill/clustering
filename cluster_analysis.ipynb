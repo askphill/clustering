{
 "cells": [
  {
   "cell_type": "code",
   "execution_count": null,
   "metadata": {},
   "outputs": [],
   "source": [
    "import pandas as pd\n",
    "import matplotlib.pyplot as plt\n",
    "from sklearn.cluster import KMeans\n",
    "from sklearn.decomposition import PCA\n",
    "from sklearn.preprocessing import StandardScaler, MinMaxScaler, RobustScaler\n",
    "%config InlineBackend.figure_format='retina'\n",
    "from datetime import datetime\n",
    "import numpy as np"
   ]
  },
  {
   "cell_type": "code",
   "execution_count": null,
   "metadata": {},
   "outputs": [],
   "source": [
    "df_master = pd.read_csv('Data/master_data.csv')"
   ]
  },
  {
   "cell_type": "code",
   "execution_count": null,
   "metadata": {},
   "outputs": [],
   "source": [
    "df_master.info()"
   ]
  },
  {
   "cell_type": "code",
   "execution_count": null,
   "metadata": {},
   "outputs": [],
   "source": [
    "df = df_master.copy()"
   ]
  },
  {
   "cell_type": "code",
   "execution_count": null,
   "metadata": {},
   "outputs": [],
   "source": [
    "df.columns[1:15]"
   ]
  },
  {
   "cell_type": "code",
   "execution_count": null,
   "metadata": {},
   "outputs": [],
   "source": [
    "df['COUNTRY'].value_counts()"
   ]
  },
  {
   "cell_type": "code",
   "execution_count": null,
   "metadata": {},
   "outputs": [],
   "source": [
    "df['Days_last_order'] = (datetime.now() - pd.to_datetime(df['CREATED_AT'])).dt.days"
   ]
  },
  {
   "cell_type": "code",
   "execution_count": null,
   "metadata": {},
   "outputs": [],
   "source": [
    "df.drop(['Unnamed: 0', 'ID_x', 'FIRST_NAME_x', 'ID', 'IS_DEFAULT', 'NAME', 'FIRST_NAME_x',\n",
    "               'PHONE_y', 'ADDRESS_1', 'ADDRESS_2', 'LAST_NAME_x', 'COMPANY', 'FIRST_NAME_y', 'LAST_NAME_y',\n",
    "               'ACCEPTS_MARKETING_UPDATED_AT', 'CREATED_AT', 'EMAIL', 'LAST_NAME_x', 'MARKETING_OPT_IN_LEVEL',\n",
    "               'NOTE', 'PHONE_x', 'STATE', 'TAX_EXEMPT', 'UPDATED_AT', 'VERIFIED_EMAIL', 'DEFAULT_ADDRESS_ID',\n",
    "               '_FIVETRAN_SYNCED_x', '_FIVETRAN_SYNCED_y', 'CAN_DELETE', 'MULTIPASS_IDENTIFIER', 'COUNT(USER_ID)', \n",
    "               'SUM(TOTAL_SPENT)', 'ADDRESS_2', 'PROVINCE', 'PROVINCE_CODE', 'LATITUDE', 'LONGITUDE',\n",
    "                'ZIP', 'COUNTRY_CODE', 'CITY', 'LIFETIME_DURATION', 'CUSTOMER_ID'], axis=1, inplace=True)"
   ]
  },
  {
   "cell_type": "code",
   "execution_count": null,
   "metadata": {
    "scrolled": true
   },
   "outputs": [],
   "source": [
    "df.head(10)"
   ]
  },
  {
   "cell_type": "code",
   "execution_count": null,
   "metadata": {},
   "outputs": [],
   "source": [
    "for i in df.columns:\n",
    "\n",
    "    if i.startswith('Channel') or i.startswith('Event'):\n",
    "        df[i].fillna(0, inplace=True)\n",
    "    elif i == 'Sessions_minutes':\n",
    "        df[i].fillna(df[i].mean(), inplace=True)\n",
    "    elif i == 'Sessions_pages':\n",
    "        df[i].fillna(df[df['Sessions_count']==1][i].mean(), inplace=True)\n",
    "    elif i == 'Sessions_first_order':\n",
    "        df[i].fillna(df[df['Sessions_count']==1][i].mean(), inplace=True)\n",
    "    elif i == 'Sessions_count':\n",
    "        df[i].fillna(1, inplace=True)\n",
    "\n",
    "# for i in df.columns:\n",
    "#     print(i, ': ', sum(df[i].isna()))\n",
    "    \n",
    "df.dropna(inplace=True)"
   ]
  },
  {
   "cell_type": "code",
   "execution_count": null,
   "metadata": {},
   "outputs": [],
   "source": [
    "c = df.corr().abs()\n",
    "\n",
    "s = c.unstack()\n",
    "so = s.sort_values(kind=\"quicksort\", ascending=False)\n",
    "so"
   ]
  },
  {
   "cell_type": "code",
   "execution_count": null,
   "metadata": {},
   "outputs": [],
   "source": [
    "pd.set_option('display.max_rows', None)"
   ]
  },
  {
   "cell_type": "code",
   "execution_count": null,
   "metadata": {},
   "outputs": [],
   "source": [
    "corr = df.corr()\n",
    "corr.style.background_gradient(cmap='coolwarm') # This line plots nicely visualized matrix of correlation"
   ]
  },
  {
   "cell_type": "code",
   "execution_count": 163,
   "metadata": {},
   "outputs": [
    {
     "data": {
      "text/plain": [
       "Index(['ACCEPTS_MARKETING', 'ORDERS_COUNT', 'TOTAL_SPENT', 'USER_ID', 'ID_y',\n",
       "       'Channel_bing_ads', 'Channel_bing_organic',\n",
       "       'Channel_duckduckgo_organic', 'Channel_ecosia_organic', 'Channel_email',\n",
       "       'Channel_facebook_ads', 'Channel_facebook_organic',\n",
       "       'Channel_google_ads', 'Channel_google_organic', 'Channel_inspiration',\n",
       "       'Channel_instagram_organic', 'Channel_internal_traffic',\n",
       "       'Channel_other_cpc_ads', 'Channel_referral', 'Channel_social',\n",
       "       'Event_Accordion_Clicked', 'Event_Amazon_Button_Clicked',\n",
       "       'Event_Announcement_Clicked', 'Event_Blog_Post_Clicked',\n",
       "       'Event_Blog_Post_Viewed', 'Event_Blogpage_Hero_Clicked',\n",
       "       'Event_Carousel_Clicked', 'Event_Cart_Viewed',\n",
       "       'Event_Category_Page_Viewed', 'Event_Checkout_Started',\n",
       "       'Event_Checkout_Step_Viewed', 'Event_Collection_Anchor_Clicked',\n",
       "       'Event_Collection_Clicked', 'Event_Collection_Gender_Selected',\n",
       "       'Event_Collection_Page_Viewed', 'Event_Color_Selected',\n",
       "       'Event_Currency_Selected', 'Event_Determine_Checkout_Language',\n",
       "       'Event_Email_Capture_Closed', 'Event_Email_Capture_Submitted',\n",
       "       'Event_Email_Capture_Viewed', 'Event_Experiment_Viewed',\n",
       "       'Event_Footer_Clicked', 'Event_Footer_Viewed',\n",
       "       'Event_Guarantee_Clicked', 'Event_Homepage_Hero_Clicked',\n",
       "       'Event_Homepage_Review_Clicked',\n",
       "       'Event_Interaction_with_Collection_Gender_Filter',\n",
       "       'Event_Interaction_with_Color_Selector',\n",
       "       'Event_Interaction_with_Product_Accordion',\n",
       "       'Event_Interaction_with_Size_Wizard', 'Event_Landingpage_Hero_Clicked',\n",
       "       'Event_Language_Selected', 'Event_Load_More_Reviews',\n",
       "       'Event_Location_Selected', 'Event_Module_Viewed', 'Event_Nav_Clicked',\n",
       "       'Event_Nav_Closed', 'Event_Nav_Opened', 'Event_Notification_Closed',\n",
       "       'Event_Notification_Viewed', 'Event_Order_Completed',\n",
       "       'Event_Product_Added', 'Event_Product_Clicked',\n",
       "       'Event_Product_Info_Clicked', 'Event_Product_List_Viewed',\n",
       "       'Event_Product_Removed', 'Event_Product_Viewed',\n",
       "       'Event_Product_Zoom_Clicked', 'Event_Review_Anchor_Clicked',\n",
       "       'Event_Review_Page_Viewed', 'Event_Search_Clicked',\n",
       "       'Event_Search_Result_Clicked', 'Event_Size_Variant_Selected',\n",
       "       'Event_Technology_Page_Viewed', 'Event_Video_Opened',\n",
       "       'Sessions_minutes', 'Sessions_count', 'Sessions_pages',\n",
       "       'Sessions_first_order', 'COUNTRY', 'Days_last_order'],\n",
       "      dtype='object')"
      ]
     },
     "execution_count": 163,
     "metadata": {},
     "output_type": "execute_result"
    }
   ],
   "source": [
    "df['ACCEPTS_MARKETING'] = df['ACCEPTS_MARKETING']*1\n",
    "df.columns"
   ]
  },
  {
   "cell_type": "code",
   "execution_count": null,
   "metadata": {},
   "outputs": [],
   "source": [
    "df_all = pd.get_dummies(df, columns=['COUNTRY'])\n",
    "df_all.drop(['ID_y', 'USER_ID'], axis=1, inplace=True)"
   ]
  },
  {
   "cell_type": "code",
   "execution_count": null,
   "metadata": {},
   "outputs": [],
   "source": [
    "Xstd_all = StandardScaler().fit_transform(df_all)\n",
    "pca_all = PCA(n_components=10)\n",
    "components_all = pca_all.fit_transform(Xstd_all)"
   ]
  },
  {
   "cell_type": "code",
   "execution_count": null,
   "metadata": {},
   "outputs": [],
   "source": [
    "features = range(pca_all.n_components_)\n",
    "plt.bar(features, pca_all.explained_variance_ratio_, color='black')\n",
    "plt.xlabel('PCA features')\n",
    "plt.ylabel('variance %')\n",
    "plt.xticks(features)"
   ]
  },
  {
   "cell_type": "code",
   "execution_count": null,
   "metadata": {},
   "outputs": [],
   "source": [
    "# Save components to a DataFrame\n",
    "PCA_components_all = pd.DataFrame(components_all)"
   ]
  },
  {
   "cell_type": "code",
   "execution_count": null,
   "metadata": {},
   "outputs": [],
   "source": [
    "plt.scatter(PCA_components_all[0], PCA_components_all[1], alpha=.1, color='black')\n",
    "plt.xlabel('PCA 1')\n",
    "plt.ylabel('PCA 2')"
   ]
  },
  {
   "cell_type": "code",
   "execution_count": null,
   "metadata": {},
   "outputs": [],
   "source": [
    "ks = range(1, 10)\n",
    "inertias_all = []\n",
    "for k in ks:\n",
    "    # Create a KMeans instance with k clusters: model\n",
    "    model_all = KMeans(n_clusters=k)\n",
    "    \n",
    "    # Fit model to samples\n",
    "    model_all.fit(PCA_components_all.iloc[:,:3])\n",
    "    \n",
    "    # Append the inertia to the list of inertias\n",
    "    inertias_all.append(model_all.inertia_)\n",
    "    \n",
    "plt.plot(ks, inertias_all, '-o', color='black')\n",
    "plt.xlabel('number of clusters, k')\n",
    "plt.ylabel('inertia')\n",
    "plt.xticks(ks)\n",
    "plt.show()"
   ]
  },
  {
   "cell_type": "code",
   "execution_count": null,
   "metadata": {},
   "outputs": [],
   "source": [
    "model_all_chosen = KMeans(n_clusters=4)\n",
    "model_all_chosen.fit(PCA_components.iloc[:,:3])"
   ]
  },
  {
   "cell_type": "code",
   "execution_count": null,
   "metadata": {},
   "outputs": [],
   "source": [
    "df_all_result = pd.concat([df.reset_index(drop=True), pd.DataFrame(PCA_components_all.iloc[:,:3])], axis=1)"
   ]
  },
  {
   "cell_type": "code",
   "execution_count": null,
   "metadata": {},
   "outputs": [],
   "source": [
    "df_all_result['segment'] = model_all.labels_"
   ]
  },
  {
   "cell_type": "code",
   "execution_count": null,
   "metadata": {},
   "outputs": [],
   "source": [
    "df_all.columns[1:40]"
   ]
  },
  {
   "cell_type": "markdown",
   "metadata": {},
   "source": [
    "## SECOND APPROACH"
   ]
  },
  {
   "cell_type": "code",
   "execution_count": null,
   "metadata": {},
   "outputs": [],
   "source": [
    "# for i in df.columns:\n",
    "\n",
    "#     if i.startswith('Event'):\n",
    "#         print(i,': ', sum(RobustScaler().fit_transform(df[[i]])) / len(df[i]))"
   ]
  },
  {
   "cell_type": "code",
   "execution_count": 157,
   "metadata": {},
   "outputs": [],
   "source": [
    "df_merge = df.copy()"
   ]
  },
  {
   "cell_type": "code",
   "execution_count": 158,
   "metadata": {},
   "outputs": [],
   "source": [
    "for i in df_merge['COUNTRY']:\n",
    "    if i in ['Belgium', 'Luxembourg']:\n",
    "        df_merge['COUNTRY'] = df_merge['COUNTRY'].replace(i, 'BE_LUX')\n",
    "    elif i in ['Netherlands', 'Netherlands Antilles']:\n",
    "        df_merge['COUNTRY'] = df_merge['COUNTRY'].replace(i, 'NL_ANG')\n",
    "    elif i in ['United Kingdom', 'Ireland', 'Guernsey', 'Jersey']:\n",
    "        df_merge['COUNTRY'] = df_merge['COUNTRY'].replace(i, 'UK_IR')\n",
    "    elif i in ['Finland', 'Denmark', 'Sweden', 'Norway', 'Iceland']:\n",
    "        df_merge['COUNTRY'] = df_merge['COUNTRY'].replace(i, 'North_EU')\n",
    "    elif i in ['Germany', 'Austria']:\n",
    "        df_merge['COUNTRY'] = df_merge['COUNTRY'].replace(i, 'DE_AT')\n",
    "    elif i in ['Croatia', 'Hungary', 'Slovakia', 'Poland', 'Romania', 'Ukraine', 'Bulgaria', 'Lithuania', 'Latvia', 'Estonia',  'Bosnia', 'Russia', 'Czech Republic', 'Slovenia', 'North Macedonia']:\n",
    "        df_merge['COUNTRY'] = df_merge['COUNTRY'].replace(i, 'East_EU')\n",
    "    elif i in ['France', 'Spain', 'Malta', 'Portugal', 'Greece', 'Italy', 'Reunion', 'Monaco']:\n",
    "        df_merge['COUNTRY'] = df_merge['COUNTRY'].replace(i, 'South-Med_EU')\n",
    "    elif i in ['Trinidad and Tobago', 'New Zealand', 'Philippines', \"Côte d'Ivoire\", 'Oman', 'Solomon Islands','Turkey', 'United Arab Emirates', 'United States', 'Australia', 'Brunei', 'Cyprus']:\n",
    "        df_merge['COUNTRY'] = df_merge['COUNTRY'].replace(i, 'Non_EU' )\n",
    "    elif i in ['Switzerland', 'Liechtenstein']:\n",
    "        df_merge['COUNTRY'] = df_merge['COUNTRY'].replace(i, 'CH_LI')"
   ]
  },
  {
   "cell_type": "code",
   "execution_count": 159,
   "metadata": {},
   "outputs": [
    {
     "data": {
      "text/plain": [
       "NL_ANG          37443\n",
       "DE_AT           26318\n",
       "BE_LUX          14699\n",
       "UK_IR            6158\n",
       "CH_LI            1180\n",
       "South-Med_EU     1020\n",
       "North_EU          413\n",
       "East_EU           182\n",
       "Non_EU             55\n",
       "Name: COUNTRY, dtype: int64"
      ]
     },
     "execution_count": 159,
     "metadata": {},
     "output_type": "execute_result"
    }
   ],
   "source": [
    "df_merge['COUNTRY'].value_counts()"
   ]
  },
  {
   "cell_type": "code",
   "execution_count": 160,
   "metadata": {},
   "outputs": [],
   "source": [
    "df_merge['Event_Blog'] = df_merge['Event_Blog_Post_Clicked'] + df_merge['Event_Blog_Post_Viewed'] +  df_merge['Event_Blogpage_Hero_Clicked']\n",
    "df_merge['Event_Email'] = df_merge['Event_Email_Capture_Closed'] +df_merge['Event_Email_Capture_Submitted'] + df_merge['Event_Email_Capture_Viewed']\n",
    "df_merge['Event_Collection'] = df_merge['Event_Collection_Anchor_Clicked'] + df_merge['Event_Collection_Clicked'] + df_merge['Event_Collection_Gender_Selected'] + df_merge['Event_Collection_Page_Viewed'] + df_merge['Event_Interaction_with_Collection_Gender_Filter']\n",
    "df_merge['Event_Footer'] = df_merge['Event_Footer_Clicked'] +df_merge ['Event_Footer_Viewed']\n",
    "df_merge['Event_Review'] = df_merge['Event_Homepage_Review_Clicked'] + df_merge['Event_Review_Page_Viewed'] + df_merge['Event_Load_More_Reviews'] + df_merge['Event_Review_Anchor_Clicked']\n",
    "df_merge['Event_Accordion'] = df_merge['Event_Accordion_Clicked'] + df_merge['Event_Interaction_with_Product_Accordion']\n",
    "df_merge['Event_Nav'] = df_merge['Event_Nav_Clicked'] + df_merge['Event_Nav_Closed'] + df_merge['Event_Nav_Opened']\n",
    "df_merge['Event_Product'] = df_merge['Event_Product_Added'] + df_merge['Event_Product_Clicked'] + df_merge['Event_Product_Info_Clicked'] + df_merge['Event_Product_List_Viewed'] + df_merge['Event_Product_Removed'] + df_merge['Event_Product_Viewed'] + df_merge['Event_Product_Zoom_Clicked']\n",
    "df_merge['Event_Search'] = df_merge['Event_Search_Clicked'] + df_merge['Event_Search_Result_Clicked']\n",
    "df_merge['Event_Cart_Checkout'] = df_merge['Event_Cart_Viewed'] + df_merge['Event_Checkout_Started'] + df_merge['Event_Checkout_Step_Viewed']\n",
    "df_merge['Event_Carousel'] = df_merge['Event_Carousel_Clicked']"
   ]
  },
  {
   "cell_type": "code",
   "execution_count": 161,
   "metadata": {},
   "outputs": [],
   "source": [
    "df_merge['Channel_Organic'] = df_merge['Channel_bing_organic'] + df_merge['Channel_duckduckgo_organic'] + df_merge['Channel_instagram_organic'] + df_merge['Channel_ecosia_organic'] + df_merge['Channel_facebook_organic'] + df_merge['Channel_google_organic']\n",
    "df_merge['Channel_Social'] = df_merge['Channel_inspiration'] + df_merge['Channel_referral'] + df_merge['Channel_social']\n",
    "df_merge['Channel_Ads'] = df_merge['Channel_facebook_ads'] + df_merge['Channel_google_ads'] + df_merge['Channel_other_cpc_ads'] + df_merge['Channel_bing_ads']\n",
    "df_merge['Channel_Internal_Traffic'] = df_merge['Channel_internal_traffic']\n",
    "df_merge['Channel_Email'] = df_merge['Channel_email']"
   ]
  },
  {
   "cell_type": "code",
   "execution_count": 167,
   "metadata": {},
   "outputs": [
    {
     "data": {
      "text/plain": [
       "Index(['ACCEPTS_MARKETING', 'ORDERS_COUNT', 'TOTAL_SPENT', 'USER_ID', 'ID_y',\n",
       "       'Channel_bing_ads', 'Channel_bing_organic',\n",
       "       'Channel_duckduckgo_organic', 'Channel_ecosia_organic', 'Channel_email',\n",
       "       'Channel_facebook_ads', 'Channel_facebook_organic',\n",
       "       'Channel_google_ads', 'Channel_google_organic', 'Channel_inspiration',\n",
       "       'Channel_instagram_organic', 'Channel_internal_traffic',\n",
       "       'Channel_other_cpc_ads', 'Channel_referral', 'Channel_social',\n",
       "       'Event_Accordion_Clicked', 'Event_Amazon_Button_Clicked',\n",
       "       'Event_Announcement_Clicked', 'Event_Blog_Post_Clicked',\n",
       "       'Event_Blog_Post_Viewed', 'Event_Blogpage_Hero_Clicked',\n",
       "       'Event_Carousel_Clicked', 'Event_Cart_Viewed',\n",
       "       'Event_Category_Page_Viewed', 'Event_Checkout_Started',\n",
       "       'Event_Checkout_Step_Viewed', 'Event_Collection_Anchor_Clicked',\n",
       "       'Event_Collection_Clicked', 'Event_Collection_Gender_Selected',\n",
       "       'Event_Collection_Page_Viewed', 'Event_Color_Selected',\n",
       "       'Event_Currency_Selected', 'Event_Determine_Checkout_Language',\n",
       "       'Event_Email_Capture_Closed', 'Event_Email_Capture_Submitted',\n",
       "       'Event_Email_Capture_Viewed', 'Event_Experiment_Viewed',\n",
       "       'Event_Footer_Clicked', 'Event_Footer_Viewed',\n",
       "       'Event_Guarantee_Clicked', 'Event_Homepage_Hero_Clicked',\n",
       "       'Event_Homepage_Review_Clicked',\n",
       "       'Event_Interaction_with_Collection_Gender_Filter',\n",
       "       'Event_Interaction_with_Color_Selector',\n",
       "       'Event_Interaction_with_Product_Accordion',\n",
       "       'Event_Interaction_with_Size_Wizard', 'Event_Landingpage_Hero_Clicked',\n",
       "       'Event_Language_Selected', 'Event_Load_More_Reviews',\n",
       "       'Event_Location_Selected', 'Event_Module_Viewed', 'Event_Nav_Clicked',\n",
       "       'Event_Nav_Closed', 'Event_Nav_Opened', 'Event_Notification_Closed',\n",
       "       'Event_Notification_Viewed', 'Event_Order_Completed',\n",
       "       'Event_Product_Added', 'Event_Product_Clicked',\n",
       "       'Event_Product_Info_Clicked', 'Event_Product_List_Viewed',\n",
       "       'Event_Product_Removed', 'Event_Product_Viewed',\n",
       "       'Event_Product_Zoom_Clicked', 'Event_Review_Anchor_Clicked',\n",
       "       'Event_Review_Page_Viewed', 'Event_Search_Clicked',\n",
       "       'Event_Search_Result_Clicked', 'Event_Size_Variant_Selected',\n",
       "       'Event_Technology_Page_Viewed', 'Event_Video_Opened',\n",
       "       'Sessions_minutes', 'Sessions_count', 'Sessions_pages',\n",
       "       'Sessions_first_order', 'COUNTRY', 'Days_last_order', 'Event_Blog',\n",
       "       'Event_Email', 'Event_Collection', 'Event_Footer', 'Event_Review',\n",
       "       'Event_Accordion', 'Event_Nav', 'Event_Product', 'Event_Search',\n",
       "       'Event_Cart_Checkout', 'Channel_Organic', 'Channel_Social',\n",
       "       'Channel_Ads', 'Event_Carousel', 'Channel_Internal_Traffic',\n",
       "       'Channel_Email'],\n",
       "      dtype='object')"
      ]
     },
     "execution_count": 167,
     "metadata": {},
     "output_type": "execute_result"
    }
   ],
   "source": [
    "df_merge.columns"
   ]
  },
  {
   "cell_type": "code",
   "execution_count": null,
   "metadata": {},
   "outputs": [],
   "source": []
  }
 ],
 "metadata": {
  "kernelspec": {
   "display_name": "Python 3",
   "language": "python",
   "name": "python3"
  },
  "language_info": {
   "codemirror_mode": {
    "name": "ipython",
    "version": 3
   },
   "file_extension": ".py",
   "mimetype": "text/x-python",
   "name": "python",
   "nbconvert_exporter": "python",
   "pygments_lexer": "ipython3",
   "version": "3.8.5"
  }
 },
 "nbformat": 4,
 "nbformat_minor": 4
}
