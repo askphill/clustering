{
 "cells": [
  {
   "cell_type": "code",
   "execution_count": null,
   "metadata": {},
   "outputs": [],
   "source": [
    "import pandas as pd\n",
    "import matplotlib.pyplot as plt\n",
    "from sklearn.cluster import KMeans, DBSCAN\n",
    "from sklearn.decomposition import PCA\n",
    "from sklearn.preprocessing import StandardScaler, MinMaxScaler, RobustScaler\n",
    "from sklearn.metrics import davies_bouldin_score, silhouette_score\n",
    "%config InlineBackend.figure_format='retina'\n",
    "from datetime import datetime\n",
    "import numpy as np"
   ]
  },
  {
   "cell_type": "code",
   "execution_count": null,
   "metadata": {},
   "outputs": [],
   "source": [
    "df_master = pd.read_csv('Data/master_data.csv')"
   ]
  },
  {
   "cell_type": "code",
   "execution_count": null,
   "metadata": {},
   "outputs": [],
   "source": [
    "df_master.info()"
   ]
  },
  {
   "cell_type": "code",
   "execution_count": null,
   "metadata": {},
   "outputs": [],
   "source": [
    "df = df_master.copy()"
   ]
  },
  {
   "cell_type": "code",
   "execution_count": null,
   "metadata": {},
   "outputs": [],
   "source": [
    "df.columns[1:15]"
   ]
  },
  {
   "cell_type": "code",
   "execution_count": null,
   "metadata": {},
   "outputs": [],
   "source": [
    "df['COUNTRY'].value_counts()"
   ]
  },
  {
   "cell_type": "code",
   "execution_count": null,
   "metadata": {},
   "outputs": [],
   "source": [
    "df['Days_last_order'] = (datetime.now() - pd.to_datetime(df['CREATED_AT'])).dt.days"
   ]
  },
  {
   "cell_type": "code",
   "execution_count": null,
   "metadata": {},
   "outputs": [],
   "source": [
    "df.drop(['Unnamed: 0', 'ID_x', 'FIRST_NAME_x', 'ID', 'IS_DEFAULT', 'NAME', 'FIRST_NAME_x',\n",
    "               'PHONE_y', 'ADDRESS_1', 'ADDRESS_2', 'LAST_NAME_x', 'COMPANY', 'FIRST_NAME_y', 'LAST_NAME_y',\n",
    "               'ACCEPTS_MARKETING_UPDATED_AT', 'CREATED_AT', 'EMAIL', 'LAST_NAME_x', 'MARKETING_OPT_IN_LEVEL',\n",
    "               'NOTE', 'PHONE_x', 'STATE', 'TAX_EXEMPT', 'UPDATED_AT', 'VERIFIED_EMAIL', 'DEFAULT_ADDRESS_ID',\n",
    "               '_FIVETRAN_SYNCED_x', '_FIVETRAN_SYNCED_y', 'CAN_DELETE', 'MULTIPASS_IDENTIFIER', 'COUNT(USER_ID)', \n",
    "               'SUM(TOTAL_SPENT)', 'ADDRESS_2', 'PROVINCE', 'PROVINCE_CODE', 'LATITUDE', 'LONGITUDE',\n",
    "                'ZIP', 'COUNTRY_CODE', 'CITY', 'LIFETIME_DURATION', 'CUSTOMER_ID', 'ACCEPTS_MARKETING'], axis=1, inplace=True)"
   ]
  },
  {
   "cell_type": "code",
   "execution_count": null,
   "metadata": {
    "scrolled": true
   },
   "outputs": [],
   "source": [
    "df.head(10)"
   ]
  },
  {
   "cell_type": "code",
   "execution_count": null,
   "metadata": {},
   "outputs": [],
   "source": [
    "df_no_na = df.dropna()\n",
    "len(df_no_na)"
   ]
  },
  {
   "cell_type": "markdown",
   "metadata": {},
   "source": [
    "# WITH NAs"
   ]
  },
  {
   "cell_type": "markdown",
   "metadata": {},
   "source": [
    "## First Approach"
   ]
  },
  {
   "cell_type": "code",
   "execution_count": null,
   "metadata": {},
   "outputs": [],
   "source": [
    "for i in df.columns:\n",
    "\n",
    "    if i.startswith('Channel') or i.startswith('Event'):\n",
    "        df[i].fillna(0, inplace=True)\n",
    "    elif i == 'Sessions_minutes':\n",
    "        df[i].fillna(df[i].mean(), inplace=True)\n",
    "    elif i == 'Sessions_pages':\n",
    "        df[i].fillna(df[df['Sessions_count']==1][i].mean(), inplace=True)\n",
    "    elif i == 'Sessions_first_order':\n",
    "        df[i].fillna(df[df['Sessions_count']==1][i].mean(), inplace=True)\n",
    "    elif i == 'Sessions_count':\n",
    "        df[i].fillna(1, inplace=True)\n",
    "\n",
    "# for i in df.columns:\n",
    "#     print(i, ': ', sum(df[i].isna()))\n",
    "    \n",
    "df.dropna(inplace=True)"
   ]
  },
  {
   "cell_type": "code",
   "execution_count": null,
   "metadata": {},
   "outputs": [],
   "source": [
    "c = df.corr().abs()\n",
    "\n",
    "s = c.unstack()\n",
    "so = s.sort_values(kind=\"quicksort\", ascending=False)\n",
    "so"
   ]
  },
  {
   "cell_type": "code",
   "execution_count": null,
   "metadata": {},
   "outputs": [],
   "source": [
    "pd.set_option('display.max_rows', None)"
   ]
  },
  {
   "cell_type": "code",
   "execution_count": null,
   "metadata": {},
   "outputs": [],
   "source": [
    "corr = df.corr()\n",
    "corr.style.background_gradient(cmap='coolwarm') # This line plots nicely visualized matrix of correlation"
   ]
  },
  {
   "cell_type": "code",
   "execution_count": null,
   "metadata": {},
   "outputs": [],
   "source": [
    "df.columns"
   ]
  },
  {
   "cell_type": "code",
   "execution_count": null,
   "metadata": {},
   "outputs": [],
   "source": [
    "df_all = pd.get_dummies(df, columns=['COUNTRY'])\n",
    "df_all.drop(['ID_y', 'USER_ID'], axis=1, inplace=True)"
   ]
  },
  {
   "cell_type": "code",
   "execution_count": null,
   "metadata": {},
   "outputs": [],
   "source": [
    "Xstd_all = StandardScaler().fit_transform(df_all)\n",
    "pca_all = PCA(n_components=3)\n",
    "components_all = pca_all.fit_transform(Xstd_all)"
   ]
  },
  {
   "cell_type": "code",
   "execution_count": null,
   "metadata": {},
   "outputs": [],
   "source": [
    "features = range(pca_all.n_components_)\n",
    "plt.bar(features, pca_all.explained_variance_ratio_, color='black')\n",
    "plt.xlabel('PCA features')\n",
    "plt.ylabel('variance %')\n",
    "plt.xticks(features)"
   ]
  },
  {
   "cell_type": "code",
   "execution_count": null,
   "metadata": {},
   "outputs": [],
   "source": [
    "# Save components to a DataFrame\n",
    "PCA_components_all = pd.DataFrame(components_all)"
   ]
  },
  {
   "cell_type": "code",
   "execution_count": null,
   "metadata": {},
   "outputs": [],
   "source": [
    "plt.scatter(PCA_components_all[0], PCA_components_all[1], alpha=.1, color='black')\n",
    "plt.xlabel('PCA 1')\n",
    "plt.ylabel('PCA 2')"
   ]
  },
  {
   "cell_type": "code",
   "execution_count": null,
   "metadata": {},
   "outputs": [],
   "source": [
    "ks = range(1, 10)\n",
    "inertias_all = []\n",
    "for k in ks:\n",
    "    # Create a KMeans instance with k clusters: model\n",
    "    model_all = KMeans(n_clusters=k)\n",
    "    \n",
    "    # Fit model to samples\n",
    "    model_all.fit(PCA_components_all.iloc[:,:3])\n",
    "    \n",
    "    # Append the inertia to the list of inertias\n",
    "    inertias_all.append(model_all.inertia_)\n",
    "    \n",
    "plt.plot(ks, inertias_all, '-o', color='black')\n",
    "plt.xlabel('number of clusters, k')\n",
    "plt.ylabel('inertia')\n",
    "plt.xticks(ks)\n",
    "plt.show()"
   ]
  },
  {
   "cell_type": "code",
   "execution_count": null,
   "metadata": {},
   "outputs": [],
   "source": [
    "model_all_chosen = KMeans(n_clusters=4)\n",
    "model_all_chosen.fit(PCA_components_all.iloc[:,:3])"
   ]
  },
  {
   "cell_type": "code",
   "execution_count": null,
   "metadata": {},
   "outputs": [],
   "source": [
    "df_all_result = pd.concat([df.reset_index(drop=True), pd.DataFrame(PCA_components_all.iloc[:,:3])], axis=1)"
   ]
  },
  {
   "cell_type": "code",
   "execution_count": null,
   "metadata": {},
   "outputs": [],
   "source": [
    "df_all_result['segment'] = model_all.labels_"
   ]
  },
  {
   "cell_type": "code",
   "execution_count": null,
   "metadata": {},
   "outputs": [],
   "source": [
    "df_all.columns[1:40]"
   ]
  },
  {
   "cell_type": "markdown",
   "metadata": {},
   "source": [
    "## Second Approach"
   ]
  },
  {
   "cell_type": "code",
   "execution_count": null,
   "metadata": {},
   "outputs": [],
   "source": [
    "df_merge = df.copy()"
   ]
  },
  {
   "cell_type": "code",
   "execution_count": null,
   "metadata": {},
   "outputs": [],
   "source": [
    "for i in df_merge['COUNTRY']:\n",
    "    if i in ['Belgium', 'Luxembourg']:\n",
    "        df_merge['COUNTRY'] = df_merge['COUNTRY'].replace(i, 'BE_LUX')\n",
    "    elif i in ['Netherlands', 'Netherlands Antilles']:\n",
    "        df_merge['COUNTRY'] = df_merge['COUNTRY'].replace(i, 'NL_ANG')\n",
    "    elif i in ['United Kingdom', 'Ireland', 'Guernsey', 'Jersey']:\n",
    "        df_merge['COUNTRY'] = df_merge['COUNTRY'].replace(i, 'UK_IR')\n",
    "    elif i in ['Finland', 'Denmark', 'Sweden', 'Norway', 'Iceland']:\n",
    "        df_merge['COUNTRY'] = df_merge['COUNTRY'].replace(i, 'North_EU')\n",
    "    elif i in ['Germany', 'Austria']:\n",
    "        df_merge['COUNTRY'] = df_merge['COUNTRY'].replace(i, 'DE_AT')\n",
    "    elif i in ['Croatia', 'Hungary', 'Slovakia', 'Poland', 'Romania', 'Ukraine', 'Bulgaria', 'Lithuania', 'Latvia', 'Estonia',  'Bosnia', 'Russia', 'Czech Republic', 'Slovenia', 'North Macedonia']:\n",
    "        df_merge['COUNTRY'] = df_merge['COUNTRY'].replace(i, 'East_EU')\n",
    "    elif i in ['France', 'Spain', 'Malta', 'Portugal', 'Greece', 'Italy', 'Reunion', 'Monaco', 'Andorra']:\n",
    "        df_merge['COUNTRY'] = df_merge['COUNTRY'].replace(i, 'South-Med_EU')\n",
    "    elif i in ['Mexico', 'Canada', 'Colombia', 'Singapore', 'Trinidad and Tobago', 'New Zealand', 'Philippines', \"Côte d'Ivoire\", 'Oman', 'Solomon Islands','Turkey', 'United Arab Emirates', 'United States', 'Australia', 'Brunei', 'Cyprus']:\n",
    "        df_merge['COUNTRY'] = df_merge['COUNTRY'].replace(i, 'Non_EU' )\n",
    "    elif i in ['Switzerland', 'Liechtenstein']:\n",
    "        df_merge['COUNTRY'] = df_merge['COUNTRY'].replace(i, 'CH_LI')"
   ]
  },
  {
   "cell_type": "code",
   "execution_count": null,
   "metadata": {},
   "outputs": [],
   "source": [
    "df_merge['COUNTRY'].value_counts()"
   ]
  },
  {
   "cell_type": "code",
   "execution_count": null,
   "metadata": {},
   "outputs": [],
   "source": [
    "df_merge['Event_Blog_Email'] = df_merge['Event_Blog_Post_Clicked'] + df_merge['Event_Blog_Post_Viewed'] +  df_merge['Event_Blogpage_Hero_Clicked'] + df_merge['Event_Email_Capture_Closed'] +df_merge['Event_Email_Capture_Submitted'] + df_merge['Event_Email_Capture_Viewed']\n",
    "df_merge['Event_Collection'] = df_merge['Event_Collection_Anchor_Clicked'] + df_merge['Event_Collection_Clicked'] + df_merge['Event_Collection_Gender_Selected'] + df_merge['Event_Collection_Page_Viewed'] + df_merge['Event_Interaction_with_Collection_Gender_Filter']\n",
    "df_merge['Event_Nav_Foot_Search'] = df_merge['Event_Footer_Clicked'] +df_merge ['Event_Footer_Viewed'] + df_merge['Event_Nav_Clicked'] + df_merge['Event_Nav_Closed'] + df_merge['Event_Nav_Opened'] + df_merge['Event_Search_Clicked'] + df_merge['Event_Search_Result_Clicked']\n",
    "df_merge['Event_Product_Review'] = df_merge['Event_Product_Added'] + df_merge['Event_Product_Clicked'] + df_merge['Event_Product_Info_Clicked'] + df_merge['Event_Product_List_Viewed'] + df_merge['Event_Product_Removed'] + df_merge['Event_Product_Viewed'] + df_merge['Event_Product_Zoom_Clicked'] + df_merge['Event_Homepage_Review_Clicked'] + df_merge['Event_Review_Page_Viewed'] + df_merge['Event_Load_More_Reviews'] + df_merge['Event_Review_Anchor_Clicked']\n",
    "df_merge['Event_Accordion_Carousel'] = df_merge['Event_Accordion_Clicked'] + df_merge['Event_Interaction_with_Product_Accordion'] + df_merge['Event_Carousel_Clicked']\n",
    "df_merge['Event_Cart_Checkout'] = df_merge['Event_Cart_Viewed'] + df_merge['Event_Checkout_Started'] + df_merge['Event_Checkout_Step_Viewed']"
   ]
  },
  {
   "cell_type": "code",
   "execution_count": null,
   "metadata": {},
   "outputs": [],
   "source": [
    "df_merge['Channel_Organic'] = df_merge['Channel_bing_organic'] + df_merge['Channel_duckduckgo_organic'] + df_merge['Channel_instagram_organic'] + df_merge['Channel_ecosia_organic'] + df_merge['Channel_facebook_organic'] + df_merge['Channel_google_organic']\n",
    "df_merge['Channel_Social'] = df_merge['Channel_inspiration'] + df_merge['Channel_referral'] + df_merge['Channel_social']\n",
    "df_merge['Channel_Ads'] = df_merge['Channel_facebook_ads'] + df_merge['Channel_google_ads'] + df_merge['Channel_other_cpc_ads'] + df_merge['Channel_bing_ads']\n",
    "df_merge['Channel_Email'] = df_merge['Channel_email']"
   ]
  },
  {
   "cell_type": "code",
   "execution_count": null,
   "metadata": {},
   "outputs": [],
   "source": [
    "df_merge['Sessions_first_order'][df_merge['Sessions_first_order'] <= 5] = 0\n",
    "df_merge['Sessions_first_order'][(df_merge['Sessions_first_order'] <= 10) & (df_merge['Sessions_first_order'] > 5)] = 1\n",
    "df_merge['Sessions_first_order'][(df_merge['Sessions_first_order'] <= 15) & (df_merge['Sessions_first_order'] > 10)] = 2\n",
    "df_merge['Sessions_first_order'][df_merge['Sessions_first_order'] > 15] = 3"
   ]
  },
  {
   "cell_type": "code",
   "execution_count": null,
   "metadata": {},
   "outputs": [],
   "source": [
    "df_merge['ORDERS_COUNT'][df_merge['ORDERS_COUNT'] == 1] = 0\n",
    "df_merge['ORDERS_COUNT'][(df_merge['ORDERS_COUNT'] <= 4) & (df_merge['ORDERS_COUNT'] > 1)] = 1\n",
    "df_merge['ORDERS_COUNT'][df_merge['ORDERS_COUNT'] > 5] = 2"
   ]
  },
  {
   "cell_type": "code",
   "execution_count": null,
   "metadata": {},
   "outputs": [],
   "source": [
    "df_merge['Days_last_order'][df_merge['Days_last_order'] <= 90] = 0\n",
    "df_merge['Days_last_order'][(df_merge['Days_last_order'] <= 180) & (df_merge['Days_last_order'] > 90)] = 1\n",
    "df_merge['Days_last_order'][(df_merge['Days_last_order'] <= 360) & (df_merge['Days_last_order'] > 180)] = 2\n",
    "df_merge['Days_last_order'][df_merge['Days_last_order'] > 360] = 3"
   ]
  },
  {
   "cell_type": "code",
   "execution_count": null,
   "metadata": {},
   "outputs": [],
   "source": [
    "df_merge['Per_session_pages'] = df_merge['Sessions_pages'] / df_merge['Sessions_count']\n",
    "df_merge.drop(['Sessions_minutes', 'Sessions_count', 'Sessions_pages'], axis=1, inplace=True)"
   ]
  },
  {
   "cell_type": "code",
   "execution_count": null,
   "metadata": {},
   "outputs": [],
   "source": [
    "df_merge['Per_session_pages'][df_merge['Per_session_pages'] <= 10] = 0\n",
    "df_merge['Per_session_pages'][(df_merge['Per_session_pages'] <= 20) & (df_merge['Per_session_pages'] > 10)] = 1\n",
    "df_merge['Per_session_pages'][(df_merge['Per_session_pages'] <= 30) & (df_merge['Per_session_pages'] > 20)] = 2\n",
    "df_merge['Per_session_pages'][df_merge['Per_session_pages'] > 30] = 3"
   ]
  },
  {
   "cell_type": "code",
   "execution_count": null,
   "metadata": {},
   "outputs": [],
   "source": [
    "df_merge.drop(df_merge.columns[2:75], axis=1, inplace=True)"
   ]
  },
  {
   "cell_type": "code",
   "execution_count": null,
   "metadata": {},
   "outputs": [],
   "source": [
    "df_merge = pd.get_dummies(df_merge, columns=['COUNTRY'])"
   ]
  },
  {
   "cell_type": "code",
   "execution_count": null,
   "metadata": {},
   "outputs": [],
   "source": [
    "df_merge.columns"
   ]
  },
  {
   "cell_type": "code",
   "execution_count": null,
   "metadata": {},
   "outputs": [],
   "source": [
    "Xstd_merge = MinMaxScaler().fit_transform(df_merge)\n",
    "\n",
    "ks = range(1, 10)\n",
    "inertias_merge = []\n",
    "for k in ks:\n",
    "    # Create a KMeans instance with k clusters: model\n",
    "    model_merge = KMeans(n_clusters=k, init='k-means++', max_iter=300, n_init=10, random_state=0)\n",
    "    \n",
    "    # Fit model to samples\n",
    "    model_merge.fit(Xstd_merge)\n",
    "    \n",
    "    # Append the inertia to the list of inertias\n",
    "    inertias_merge.append(model_merge.inertia_)\n",
    "    \n",
    "plt.plot(ks, inertias_merge, '-o', color='black')\n",
    "plt.xlabel('number of clusters, k')\n",
    "plt.ylabel('inertia')\n",
    "plt.xticks(ks)\n",
    "plt.show()"
   ]
  },
  {
   "cell_type": "code",
   "execution_count": null,
   "metadata": {
    "scrolled": true
   },
   "outputs": [],
   "source": [
    "model_merge_selected = KMeans(n_clusters=3, init='k-means++', random_state=0, n_init=10, max_iter=300)\n",
    "y_means = model_merge_selected.fit_predict(Xstd_merge)\n",
    "df_merge['cluster'] = model_merge_selected.fit_predict(Xstd_merge)\n",
    "\n",
    "#Visualizing the clusters for k=4\n",
    "# plt.scatter(Xstd_merge[y_means==0,0],Xstd_merge[y_means==0,1],s=50, c='purple',label='Cluster1')\n",
    "# plt.scatter(Xstd_merge[y_means==1,0],Xstd_merge[y_means==1,1],s=50, c='blue',label='Cluster2')\n",
    "# plt.scatter(Xstd_merge[y_means==2,0],Xstd_merge[y_means==2,1],s=50, c='green',label='Cluster3')\n",
    "\n",
    "# plt.scatter(model_merge_selected.cluster_centers_[:,0], model_merge_selected.cluster_centers_[:,1],s=200,marker='s', c='red', alpha=0.7, label='Centroids')\n",
    "# plt.title('Customer segments')\n",
    "# plt.legend()\n",
    "# plt.show()\n",
    "\n",
    "pd.plotting.parallel_coordinates(df_merge, 'cluster')\n",
    "\n",
    "# for i in u_labels:\n",
    "#     plt.scatter(Xstd_merge[label == i, 0], Xstd_merge[label == i, 1], label=i)\n",
    "# plt.legend()\n",
    "# plt.show()"
   ]
  },
  {
   "cell_type": "code",
   "execution_count": null,
   "metadata": {},
   "outputs": [],
   "source": [
    "results_merge = df_merge[['ORDERS_COUNT', 'TOTAL_SPENT', 'Sessions_first_order', 'Days_last_order', 'cluster']]\n",
    "results_merge = pd.concat([results_merge, pd.DataFrame(Xstd_merge[:,4:], columns=df_merge.columns[4:-1])], axis=1)\n",
    "results_merge.head()"
   ]
  },
  {
   "cell_type": "code",
   "execution_count": null,
   "metadata": {},
   "outputs": [],
   "source": [
    "results_merge_one = results_merge.groupby(['cluster']).mean()\n",
    "results_merge_one"
   ]
  },
  {
   "cell_type": "markdown",
   "metadata": {},
   "source": [
    "## NO NAs"
   ]
  },
  {
   "cell_type": "markdown",
   "metadata": {},
   "source": [
    "## Third Approach"
   ]
  },
  {
   "cell_type": "code",
   "execution_count": null,
   "metadata": {},
   "outputs": [],
   "source": [
    "df_merge_no_na = df_no_na.reset_index(drop=True).copy()"
   ]
  },
  {
   "cell_type": "code",
   "execution_count": null,
   "metadata": {},
   "outputs": [],
   "source": [
    "for i in df_merge_no_na['COUNTRY']:\n",
    "    if i in ['Belgium', 'Luxembourg']:\n",
    "        df_merge_no_na['COUNTRY'] = df_merge_no_na['COUNTRY'].replace(i, 'BE_LUX')\n",
    "    elif i in ['Netherlands', 'Netherlands Antilles']:\n",
    "        df_merge_no_na['COUNTRY'] = df_merge_no_na['COUNTRY'].replace(i, 'NL_ANG')\n",
    "    elif i in ['United Kingdom', 'Ireland', 'Guernsey', 'Jersey']:\n",
    "        df_merge_no_na['COUNTRY'] = df_merge_no_na['COUNTRY'].replace(i, 'UK_IR')\n",
    "    elif i in ['Finland', 'Denmark', 'Sweden', 'Norway', 'Iceland']:\n",
    "        df_merge_no_na['COUNTRY'] = df_merge_no_na['COUNTRY'].replace(i, 'North_EU')\n",
    "    elif i in ['Germany', 'Austria']:\n",
    "        df_merge_no_na['COUNTRY'] = df_merge_no_na['COUNTRY'].replace(i, 'DE_AT')\n",
    "    elif i in ['Croatia', 'Hungary', 'Slovakia', 'Poland', 'Romania', 'Ukraine', 'Bulgaria', 'Lithuania', 'Latvia', 'Estonia',  'Bosnia', 'Russia', 'Czech Republic', 'Slovenia', 'North Macedonia']:\n",
    "        df_merge_no_na['COUNTRY'] = df_merge_no_na['COUNTRY'].replace(i, 'East_EU')\n",
    "    elif i in ['France', 'Spain', 'Malta', 'Portugal', 'Greece', 'Italy', 'Reunion', 'Monaco', 'Andorra']:\n",
    "        df_merge_no_na['COUNTRY'] = df_merge_no_na['COUNTRY'].replace(i, 'South-Med_EU')\n",
    "    elif i in ['Mexico', 'Canada', 'Colombia', 'Singapore', 'Trinidad and Tobago', 'New Zealand', 'Philippines', \"Côte d'Ivoire\", 'Oman', 'Solomon Islands','Turkey', 'United Arab Emirates', 'United States', 'Australia', 'Brunei', 'Cyprus']:\n",
    "        df_merge_no_na['COUNTRY'] = df_merge_no_na['COUNTRY'].replace(i, 'Non_EU' )\n",
    "    elif i in ['Switzerland', 'Liechtenstein']:\n",
    "        df_merge_no_na['COUNTRY'] = df_merge_no_na['COUNTRY'].replace(i, 'CH_LI')"
   ]
  },
  {
   "cell_type": "code",
   "execution_count": null,
   "metadata": {},
   "outputs": [],
   "source": [
    "df_merge_no_na['Event_Blog_Email'] = df_merge_no_na['Event_Blog_Post_Clicked'] + df_merge_no_na['Event_Blog_Post_Viewed'] +  df_merge_no_na['Event_Blogpage_Hero_Clicked'] + df_merge_no_na['Event_Email_Capture_Closed'] +df_merge_no_na['Event_Email_Capture_Submitted'] + df_merge_no_na['Event_Email_Capture_Viewed']\n",
    "df_merge_no_na['Event_Collection'] = df_merge_no_na['Event_Collection_Anchor_Clicked'] + df_merge_no_na['Event_Collection_Clicked'] + df_merge_no_na['Event_Collection_Gender_Selected'] + df_merge_no_na['Event_Collection_Page_Viewed'] + df_merge_no_na['Event_Interaction_with_Collection_Gender_Filter']\n",
    "df_merge_no_na['Event_Nav_Foot_Search'] = df_merge_no_na['Event_Footer_Clicked'] +df_merge_no_na ['Event_Footer_Viewed'] + df_merge_no_na['Event_Nav_Clicked'] + df_merge_no_na['Event_Nav_Closed'] + df_merge_no_na['Event_Nav_Opened'] + df_merge_no_na['Event_Search_Clicked'] + df_merge_no_na['Event_Search_Result_Clicked']\n",
    "df_merge_no_na['Event_Product_Review'] = df_merge_no_na['Event_Product_Added'] + df_merge_no_na['Event_Product_Clicked'] + df_merge_no_na['Event_Product_Info_Clicked'] + df_merge_no_na['Event_Product_List_Viewed'] + df_merge_no_na['Event_Product_Removed'] + df_merge_no_na['Event_Product_Viewed'] + df_merge_no_na['Event_Product_Zoom_Clicked'] + df_merge_no_na['Event_Homepage_Review_Clicked'] + df_merge_no_na['Event_Review_Page_Viewed'] + df_merge_no_na['Event_Load_More_Reviews'] + df_merge_no_na['Event_Review_Anchor_Clicked']\n",
    "df_merge_no_na['Event_Accordion_Carousel'] = df_merge_no_na['Event_Accordion_Clicked'] + df_merge_no_na['Event_Interaction_with_Product_Accordion'] + df_merge_no_na['Event_Carousel_Clicked']\n",
    "df_merge_no_na['Event_Cart_Checkout'] = df_merge_no_na['Event_Cart_Viewed'] + df_merge_no_na['Event_Checkout_Started'] + df_merge_no_na['Event_Checkout_Step_Viewed']\n",
    "\n",
    "df_merge_no_na['Channel_Organic'] = df_merge_no_na['Channel_bing_organic'] + df_merge_no_na['Channel_duckduckgo_organic'] + df_merge_no_na['Channel_instagram_organic'] + df_merge_no_na['Channel_ecosia_organic'] + df_merge_no_na['Channel_facebook_organic'] + df_merge_no_na['Channel_google_organic']\n",
    "df_merge_no_na['Channel_Social'] = df_merge_no_na['Channel_inspiration'] + df_merge_no_na['Channel_referral'] + df_merge_no_na['Channel_social']\n",
    "df_merge_no_na['Channel_Ads'] = df_merge_no_na['Channel_facebook_ads'] + df_merge_no_na['Channel_google_ads'] + df_merge_no_na['Channel_other_cpc_ads'] + df_merge_no_na['Channel_bing_ads']\n",
    "df_merge_no_na['Channel_Email'] = df_merge_no_na['Channel_email']\n",
    "\n",
    "df_merge_no_na['Sessions_first_order'][df_merge_no_na['Sessions_first_order'] <= 5] = 0\n",
    "df_merge_no_na['Sessions_first_order'][(df_merge_no_na['Sessions_first_order'] <= 10) & (df_merge_no_na['Sessions_first_order'] > 5)] = 1\n",
    "df_merge_no_na['Sessions_first_order'][(df_merge_no_na['Sessions_first_order'] <= 15) & (df_merge_no_na['Sessions_first_order'] > 10)] = 2\n",
    "df_merge_no_na['Sessions_first_order'][df_merge_no_na['Sessions_first_order'] > 15] = 3\n",
    "\n",
    "df_merge_no_na['ORDERS_COUNT'][df_merge_no_na['ORDERS_COUNT'] == 1] = 0\n",
    "df_merge_no_na['ORDERS_COUNT'][(df_merge_no_na['ORDERS_COUNT'] <= 4) & (df_merge_no_na['ORDERS_COUNT'] > 1)] = 1\n",
    "df_merge_no_na['ORDERS_COUNT'][df_merge_no_na['ORDERS_COUNT'] > 5] = 2\n",
    "\n",
    "df_merge_no_na['Days_last_order'][df_merge_no_na['Days_last_order'] <= 90] = 0\n",
    "df_merge_no_na['Days_last_order'][(df_merge_no_na['Days_last_order'] <= 180) & (df_merge_no_na['Days_last_order'] > 90)] = 1\n",
    "df_merge_no_na['Days_last_order'][(df_merge_no_na['Days_last_order'] <= 360) & (df_merge_no_na['Days_last_order'] > 180)] = 2\n",
    "df_merge_no_na['Days_last_order'][df_merge_no_na['Days_last_order'] > 360] = 3\n",
    "\n",
    "df_merge_no_na['Per_session_pages'] = df_merge_no_na['Sessions_pages'] / df_merge_no_na['Sessions_count']\n",
    "df_merge_no_na.drop(['Sessions_minutes', 'Sessions_count', 'Sessions_pages'], axis=1, inplace=True)\n",
    "\n",
    "df_merge_no_na['Per_session_pages'][df_merge_no_na['Per_session_pages'] <= 10] = 0\n",
    "df_merge_no_na['Per_session_pages'][(df_merge_no_na['Per_session_pages'] <= 20) & (df_merge_no_na['Per_session_pages'] > 10)] = 1\n",
    "df_merge_no_na['Per_session_pages'][(df_merge_no_na['Per_session_pages'] <= 30) & (df_merge_no_na['Per_session_pages'] > 20)] = 2\n",
    "df_merge_no_na['Per_session_pages'][df_merge_no_na['Per_session_pages'] > 30] = 3\n",
    "\n",
    "df_merge_no_na.drop(df_merge_no_na.columns[2:75], axis=1, inplace=True)\n",
    "df_merge_no_na = pd.get_dummies(df_merge_no_na, columns=['COUNTRY'])\n",
    "df_merge_no_na.columns"
   ]
  },
  {
   "cell_type": "code",
   "execution_count": null,
   "metadata": {},
   "outputs": [],
   "source": [
    "Xstd_merge_no_na = MinMaxScaler().fit_transform(df_merge_no_na)"
   ]
  },
  {
   "cell_type": "code",
   "execution_count": null,
   "metadata": {},
   "outputs": [],
   "source": [
    "ks = range(1, 10)\n",
    "inertias_merge_no_na = []\n",
    "for k in ks:\n",
    "    # Create a KMeans instance with k clusters: model\n",
    "    model_merge_no_na = KMeans(n_clusters=k, init='k-means++', max_iter=300, n_init=10, random_state=0)\n",
    "    \n",
    "    # Fit model to samples\n",
    "    model_merge_no_na.fit(Xstd_merge_no_na)\n",
    "    \n",
    "    # Append the inertia to the list of inertias\n",
    "    inertias_merge_no_na.append(model_merge_no_na.inertia_)\n",
    "    \n",
    "plt.plot(ks, inertias_merge_no_na, '-o', color='black')\n",
    "plt.xlabel('number of clusters, k')\n",
    "plt.ylabel('inertia')\n",
    "plt.xticks(ks)\n",
    "plt.show()"
   ]
  },
  {
   "cell_type": "code",
   "execution_count": null,
   "metadata": {},
   "outputs": [],
   "source": [
    "model_merge_selected_no_na = KMeans(n_clusters=4, init='k-means++', random_state=0, n_init=10, max_iter=300)\n",
    "df_merge_no_na['cluster'] = model_merge_selected_no_na.fit_predict(Xstd_merge_no_na)\n",
    "\n",
    "#Visualizing the clusters for k=4\n",
    "# plt.scatter(Xstd_merge_no_na[y_means==0,0],Xstd_merge_no_na[y_means==0,1],s=50, c='purple',label='Cluster1')\n",
    "# plt.scatter(Xstd_merge_no_na[y_means==1,0],Xstd_merge_no_na[y_means==1,1],s=50, c='blue',label='Cluster2')\n",
    "# plt.scatter(Xstd_merge_no_na[y_means==2,0],Xstd_merge_no_na[y_means==2,1],s=50, c='green',label='Cluster3')\n",
    "\n",
    "# plt.scatter(model_merge_no_na_selected.cluster_centers_[:,0], model_merge_no_na_selected.cluster_centers_[:,1],s=200,marker='s', c='red', alpha=0.7, label='Centroids')\n",
    "# plt.title('Customer segments')\n",
    "# plt.legend()\n",
    "# plt.show()\n",
    "\n",
    "pd.plotting.parallel_coordinates(df_merge_no_na, 'cluster')\n",
    "\n",
    "# for i in u_labels:\n",
    "#     plt.scatter(Xstd_merge[label == i, 0], Xstd_merge[label == i, 1], label=i)\n",
    "# plt.legend()\n",
    "# plt.show()"
   ]
  },
  {
   "cell_type": "code",
   "execution_count": null,
   "metadata": {},
   "outputs": [],
   "source": [
    "results_merge_no_na = df_merge_no_na[['ORDERS_COUNT', 'TOTAL_SPENT', 'Sessions_first_order', 'Days_last_order', 'cluster']]\n",
    "results_merge_no_na = pd.concat([results_merge_no_na, pd.DataFrame(Xstd_merge_no_na[:,4:], columns=df_merge_no_na.columns[4:-1])], axis=1)\n",
    "results_merge_no_na.head()"
   ]
  },
  {
   "cell_type": "code",
   "execution_count": null,
   "metadata": {},
   "outputs": [],
   "source": [
    "results_merge_no_na_one = results_merge_no_na.groupby(['cluster']).mean()\n",
    "results_merge_one.unstack()"
   ]
  },
  {
   "cell_type": "code",
   "execution_count": null,
   "metadata": {},
   "outputs": [],
   "source": [
    "results=pd.DataFrame(columns=['Eps','Min_Samples','Number of Cluster','Silhouette Score'])\n",
    "for i in range(1,12):\n",
    "    for j in range(1,12):\n",
    "        dbscan_cluster = DBSCAN(eps=i*0.5, min_samples=j)\n",
    "        clusters=dbscan_cluster.fit_predict(Xstd_merge_no_na)\n",
    "    if len(np.unique(clusters))>=2:\n",
    "       results=results.append({'Eps':i*0.5,'Min_Samples':j,'Numberof  Cluster':len(np.unique(clusters)),'SilhouetteScore':silhouette_score(Xstd_merge_no_na,clusters),'Davies Bouldin Score':davies_bouldin_score(Xstd_merge_no_na,clusters)},ignore_index=True)"
   ]
  },
  {
   "cell_type": "code",
   "execution_count": null,
   "metadata": {},
   "outputs": [],
   "source": [
    "results"
   ]
  }
 ],
 "metadata": {
  "kernelspec": {
   "display_name": "Python 3",
   "language": "python",
   "name": "python3"
  },
  "language_info": {
   "codemirror_mode": {
    "name": "ipython",
    "version": 3
   },
   "file_extension": ".py",
   "mimetype": "text/x-python",
   "name": "python",
   "nbconvert_exporter": "python",
   "pygments_lexer": "ipython3",
   "version": "3.8.8"
  }
 },
 "nbformat": 4,
 "nbformat_minor": 4
}
